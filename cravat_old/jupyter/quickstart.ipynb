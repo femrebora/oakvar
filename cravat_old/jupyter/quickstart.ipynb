{
 "cells": [
  {
   "cell_type": "markdown",
   "metadata": {},
   "source": [
    "# OakVar Quickstart"
   ]
  },
  {
   "cell_type": "markdown",
   "metadata": {},
   "source": [
    "OakVar is a modular, local, and open-source variant interpretation platform.\n",
    "\n",
    "OakVar is composed of the core programs and modules. The core programs provide the operating environment for the modules and the modules do the operations of format conversion, gene mapping, annotation, filtration, and reporting.\n",
    "\n",
    "The minimum set of OakVar modules for running OakVar in your computer is called \"base modules\" and they are composed of the modules of input format converters, hg38 gene mapper, analysis aggregator, Excel and text file reporters, analysis result web viewer, and web interface for analysis, OakVar Store, and system settings.\n",
    "\n",
    "Let's install the core programs and the base modules with the following two commands. The hg38 gene mapper in the base modules is about 8GB big, so it can take some time.\n",
    "\n",
    "OakVar requires Python3.5 or higher."
   ]
  },
  {
   "cell_type": "code",
   "execution_count": null,
   "metadata": {},
   "outputs": [],
   "source": [
    "!pip3 install oakvar"
   ]
  },
  {
   "cell_type": "code",
   "execution_count": null,
   "metadata": {},
   "outputs": [],
   "source": [
    "!oc module install-base"
   ]
  },
  {
   "cell_type": "markdown",
   "metadata": {},
   "source": [
    "Now OakVar is ready! At this point, it can do gene mapping and sequence ontology annotation with the hg38 mapper.\n",
    "\n",
    "Let's do a test analysis. We need an input file. OakVar provides a test input file for your convenience. Go to a folder where you want to store OakVar analysis files and run the following."
   ]
  },
  {
   "cell_type": "code",
   "execution_count": null,
   "metadata": {},
   "outputs": [],
   "source": [
    "!oc new example-input . "
   ]
  },
  {
   "cell_type": "markdown",
   "metadata": {},
   "source": [
    "This will create `example_input` file in the current directory.\n",
    "\n",
    "Now, let's run an OakVar analysis on this input file with the following command."
   ]
  },
  {
   "cell_type": "code",
   "execution_count": null,
   "metadata": {},
   "outputs": [],
   "source": [
    "!oc run example_input"
   ]
  },
  {
   "cell_type": "markdown",
   "metadata": {},
   "source": [
    "This will create a bunch of files. But, the final output is example_input.xlsx. Open it and see the analysis result.\n",
    "\n",
    "OakVar provides a web-based analysis result viewer. The above cravat run will have created the file `example_input.sqlite` which is a SQLite3 database file of the analysis result. Run the below command to see it in the web result viewer."
   ]
  },
  {
   "cell_type": "code",
   "execution_count": null,
   "metadata": {},
   "outputs": [],
   "source": [
    "!oc gui example_input.sqlite"
   ]
  },
  {
   "cell_type": "markdown",
   "metadata": {},
   "source": [
    "Now, let's add ClinVar annotation for this same input.\n",
    "\n",
    "First, get the ClinVar module for OakVar with the following command."
   ]
  },
  {
   "cell_type": "code",
   "execution_count": null,
   "metadata": {},
   "outputs": [],
   "source": [
    "!oc module install clinvar"
   ]
  },
  {
   "cell_type": "markdown",
   "metadata": {},
   "source": [
    "By the way, OakVar has many analysis modules available. To see all the currently available OakVar modules, run the below command."
   ]
  },
  {
   "cell_type": "code",
   "execution_count": null,
   "metadata": {},
   "outputs": [],
   "source": [
    "!oc module ls -a"
   ]
  },
  {
   "cell_type": "markdown",
   "metadata": {},
   "source": [
    "Let's run ClinVar annotation for the same input."
   ]
  },
  {
   "cell_type": "code",
   "execution_count": null,
   "metadata": {},
   "outputs": [],
   "source": [
    "!oc run example_input"
   ]
  },
  {
   "cell_type": "markdown",
   "metadata": {},
   "source": [
    "Note that we did not specify to do ClinVar annotation. This is because OakVar by default runs all annotation modules. To see which annotation modules are currently installed in your system, run the below command."
   ]
  },
  {
   "cell_type": "code",
   "execution_count": null,
   "metadata": {},
   "outputs": [],
   "source": [
    "!oc module ls"
   ]
  },
  {
   "cell_type": "markdown",
   "metadata": {},
   "source": [
    "To specify the annotation modules to run, you can give `-a` option to `cravat`. For example, to run ClinVar annotation only, you can run the below command."
   ]
  },
  {
   "cell_type": "code",
   "execution_count": null,
   "metadata": {},
   "outputs": [],
   "source": [
    "!oc run example_input -a clinvar"
   ]
  },
  {
   "cell_type": "markdown",
   "metadata": {},
   "source": [
    "Note that `-a` option came after the input file path and that `clinvar` was used instead of ClinVar. `clinvar` is the registered name of the ClinVar module in OakVar and this is what we used when we installed the module and also what we see in the output of `cravat-admin ls` (with or without `-a` option)."
   ]
  },
  {
   "cell_type": "code",
   "execution_count": null,
   "metadata": {},
   "outputs": [],
   "source": []
  }
 ],
 "metadata": {
  "kernelspec": {
   "display_name": "Python 3",
   "language": "python",
   "name": "python3"
  },
  "language_info": {
   "codemirror_mode": {
    "name": "ipython",
    "version": 3
   },
   "file_extension": ".py",
   "mimetype": "text/x-python",
   "name": "python",
   "nbconvert_exporter": "python",
   "pygments_lexer": "ipython3",
   "version": "3.6.6"
  }
 },
 "nbformat": 4,
 "nbformat_minor": 2
}
